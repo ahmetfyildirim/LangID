{
 "cells": [
  {
   "cell_type": "code",
   "execution_count": 1,
   "metadata": {},
   "outputs": [
    {
     "name": "stdout",
     "output_type": "stream",
     "text": [
      "hello\n"
     ]
    }
   ],
   "source": [
    "print('hello')"
   ]
  },
  {
   "cell_type": "code",
   "execution_count": 2,
   "metadata": {},
   "outputs": [],
   "source": [
    "##### IMPORTS #####\n",
    "\n",
    "import numpy as np\n",
    "\n",
    "import pandas as pd\n",
    "\n",
    "from functools import partial\n",
    "\n",
    "import math\n",
    "\n",
    "import operator\n",
    "\n",
    "import itertools\n",
    "\n",
    "##### IMPORTS #####"
   ]
  },
  {
   "cell_type": "code",
   "execution_count": 3,
   "metadata": {},
   "outputs": [],
   "source": [
    "##### COMBINE INTO ONE & SAVE --one time run #####\n",
    "\n",
    "# This part of the code aims to combine the separate datasets into one, and save it to the computer in a folder\n",
    "# in order to avoid re-performing the same actions.\n",
    "\n",
    "##### COMBINE INTO ONE & SAVE --one time run #####"
   ]
  },
  {
   "cell_type": "code",
   "execution_count": 4,
   "metadata": {},
   "outputs": [],
   "source": [
    "# Read German and label\n",
    "dfg = pd.read_csv('Raw_Source/ger.txt', header=None, names=['word'])\n",
    "# print(dfg)\n",
    "dfg['label'] = 2\n",
    "# print(dfg)"
   ]
  },
  {
   "cell_type": "code",
   "execution_count": 5,
   "metadata": {},
   "outputs": [],
   "source": [
    "# Select a random bunch from German, since the dataset is large in comparison\n",
    "maskg = np.random.rand(len(dfg)) < 0.15\n",
    "dfgr = dfg[maskg]\n",
    "# print(dfgr)\n",
    "# print(dfgr.dtypes)"
   ]
  },
  {
   "cell_type": "code",
   "execution_count": 6,
   "metadata": {},
   "outputs": [],
   "source": [
    "# Read English and France\n",
    "dfa = pd.read_csv('Raw_Source/eng_fre.txt', header=None, names=['word', 'label'])\n",
    "# print(dfa)\n",
    "# print(dfa.dtypes)"
   ]
  },
  {
   "cell_type": "code",
   "execution_count": 7,
   "metadata": {},
   "outputs": [],
   "source": [
    "# Combine both dataset into one\n",
    "frames = [dfgr, dfa]\n",
    "dff = pd.concat(frames)\n",
    "# print(dff)\n",
    "# print(dff.dtypes)"
   ]
  },
  {
   "cell_type": "code",
   "execution_count": 8,
   "metadata": {},
   "outputs": [
    {
     "name": "stdout",
     "output_type": "stream",
     "text": [
      "                     word  label\n",
      "0              Aachenerin      2\n",
      "1                 Aadorfs      2\n",
      "2                     Aal      2\n",
      "3       Aalangelfischerei      2\n",
      "4                aalartig      2\n",
      "5               aalartige      2\n",
      "6              aalartigem      2\n",
      "7             Aalbestände      2\n",
      "8              aalbezogen      2\n",
      "9             aalbezogene      2\n",
      "10           aalbezogenen      2\n",
      "11           aalbezogener      2\n",
      "12                Aalbrut      2\n",
      "13          Aalbrutleiter      2\n",
      "14         Aalbüschelwels      2\n",
      "15               Aalbutts      2\n",
      "16                Aalener      2\n",
      "17                  Aales      2\n",
      "18               Aalfänge      2\n",
      "19              Aalfänger      2\n",
      "20             Aalfängers      2\n",
      "21         Aalfangverbote      2\n",
      "22         Aalfangverbots      2\n",
      "23           Aalfischerei      2\n",
      "24           Aalfischerin      2\n",
      "25              Aalfischs      2\n",
      "26              aalförmig      2\n",
      "27            aalförmigem      2\n",
      "28            Aalfreundes      2\n",
      "29              aalglatte      2\n",
      "...                   ...    ...\n",
      "805232                ôta      3\n",
      "805233               ôtai      3\n",
      "805234            ôtaient      3\n",
      "805235              ôtais      3\n",
      "805236              ôtait      3\n",
      "805237              ôtant      3\n",
      "805238                ôte      3\n",
      "805239              ôtent      3\n",
      "805240               ôter      3\n",
      "805241              ôtera      3\n",
      "805242             ôterai      3\n",
      "805243            ôterais      3\n",
      "805244            ôterait      3\n",
      "805245             ôteras      3\n",
      "805246             ôterez      3\n",
      "805247           ôterions      3\n",
      "805248               ôtes      3\n",
      "805249               ôtez      3\n",
      "805250              ôtiez      3\n",
      "805251              ôtons      3\n",
      "805252               ôtât      3\n",
      "805253            ôtèrent      3\n",
      "805254                ôté      3\n",
      "805255                ôté      3\n",
      "805256               ôtée      3\n",
      "805257               ôtée      3\n",
      "805258              ôtées      3\n",
      "805259              ôtées      3\n",
      "805260               ôtés      3\n",
      "805261               ôtés      3\n",
      "\n",
      "[805262 rows x 2 columns]\n",
      "word     object\n",
      "label     int64\n",
      "dtype: object\n"
     ]
    }
   ],
   "source": [
    "# Reset the indexes\n",
    "# # Why we need to reset the indexes?\n",
    "# print(dff.loc[7])\n",
    "dff = dff.reset_index(drop=True)\n",
    "print(dff); print(dff.dtypes)"
   ]
  },
  {
   "cell_type": "code",
   "execution_count": 9,
   "metadata": {},
   "outputs": [],
   "source": [
    "# Save to a csv file\n",
    "dff.to_csv(\"Source/ENG-GER-FRE.csv\")"
   ]
  }
 ],
 "metadata": {
  "kernelspec": {
   "display_name": "Python 3",
   "language": "python",
   "name": "python3"
  },
  "language_info": {
   "codemirror_mode": {
    "name": "ipython",
    "version": 3
   },
   "file_extension": ".py",
   "mimetype": "text/x-python",
   "name": "python",
   "nbconvert_exporter": "python",
   "pygments_lexer": "ipython3",
   "version": "3.7.0"
  }
 },
 "nbformat": 4,
 "nbformat_minor": 2
}
