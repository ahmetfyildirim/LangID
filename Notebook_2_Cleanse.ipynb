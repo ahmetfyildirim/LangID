{
 "cells": [
  {
   "cell_type": "code",
   "execution_count": 1,
   "metadata": {},
   "outputs": [
    {
     "name": "stdout",
     "output_type": "stream",
     "text": [
      "hello\n"
     ]
    }
   ],
   "source": [
    "print('hello')"
   ]
  },
  {
   "cell_type": "code",
   "execution_count": 2,
   "metadata": {},
   "outputs": [],
   "source": [
    "import numpy as np\n",
    "\n",
    "import pandas as pd\n",
    "\n",
    "from functools import partial\n",
    "\n",
    "import math\n",
    "\n",
    "import operator\n",
    "\n",
    "import itertools"
   ]
  },
  {
   "cell_type": "code",
   "execution_count": 3,
   "metadata": {},
   "outputs": [
    {
     "name": "stdout",
     "output_type": "stream",
     "text": [
      "                      word  label\n",
      "0                Aacheners      2\n",
      "1             aalähnlicher      2\n",
      "2             aalähnliches      2\n",
      "3               aalartiges      2\n",
      "4              Aalbestände      2\n",
      "5               aalbezogen      2\n",
      "6             aalbezogenen      2\n",
      "7           Aalbrutleitern      2\n",
      "8          Aalbüschelwelse      2\n",
      "9                Aalbutten      2\n",
      "10               Aaldorsch      2\n",
      "11                  aalend      2\n",
      "12                 aalende      2\n",
      "13             Aalentnahme      2\n",
      "14               Aalfänger      2\n",
      "15      Aalfangergebnisses      2\n",
      "16          Aalfängerinnen      2\n",
      "17         Aalfangmethoden      2\n",
      "18          Aalfangverbote      2\n",
      "19         Aalfangverbotes      2\n",
      "20          Aalfangverbots      2\n",
      "21              Aalfischer      2\n",
      "22            Aalfischerin      2\n",
      "23             Aalfleischs      2\n",
      "24              aalförmige      2\n",
      "25             Aalfreundes      2\n",
      "26                aalglatt      2\n",
      "27               Aalgräten      2\n",
      "28                Aalkiste      2\n",
      "29             Aalkörbchen      2\n",
      "...                    ...    ...\n",
      "806563                 ôta      3\n",
      "806564                ôtai      3\n",
      "806565             ôtaient      3\n",
      "806566               ôtais      3\n",
      "806567               ôtait      3\n",
      "806568               ôtant      3\n",
      "806569                 ôte      3\n",
      "806570               ôtent      3\n",
      "806571                ôter      3\n",
      "806572               ôtera      3\n",
      "806573              ôterai      3\n",
      "806574             ôterais      3\n",
      "806575             ôterait      3\n",
      "806576              ôteras      3\n",
      "806577              ôterez      3\n",
      "806578            ôterions      3\n",
      "806579                ôtes      3\n",
      "806580                ôtez      3\n",
      "806581               ôtiez      3\n",
      "806582               ôtons      3\n",
      "806583                ôtât      3\n",
      "806584             ôtèrent      3\n",
      "806585                 ôté      3\n",
      "806586                 ôté      3\n",
      "806587                ôtée      3\n",
      "806588                ôtée      3\n",
      "806589               ôtées      3\n",
      "806590               ôtées      3\n",
      "806591                ôtés      3\n",
      "806592                ôtés      3\n",
      "\n",
      "[806590 rows x 2 columns]\n",
      "word     object\n",
      "label     int64\n",
      "dtype: object\n"
     ]
    }
   ],
   "source": [
    "# Read the dataset\n",
    "df = pd.read_csv(\"Source/ENG-GER-FRE.csv\", index_col='Unnamed: 0')\n",
    "df = df.dropna()\n",
    "print(df); print(df.dtypes)"
   ]
  },
  {
   "cell_type": "code",
   "execution_count": 4,
   "metadata": {},
   "outputs": [],
   "source": [
    "##### CLEANSE #####\n",
    "\n",
    "# Get rid of duplicate rows and non-alphabetic characters, and reset the indexes\n",
    "\n",
    "##### CLEANSE #####"
   ]
  },
  {
   "cell_type": "code",
   "execution_count": 5,
   "metadata": {},
   "outputs": [],
   "source": [
    "# Required functions\n",
    "\n",
    "# Uppercase all letters for unison\n",
    "def letter_2_upper_mk_42(word):\n",
    "    return str(word).upper()\n",
    "\n",
    "# Return set of all unique characters\n",
    "def unique_letters(word, letter_bag):\n",
    "    for c in word:\n",
    "        if c not in letter_bag:\n",
    "            letter_bag.add(c)"
   ]
  },
  {
   "cell_type": "code",
   "execution_count": 6,
   "metadata": {},
   "outputs": [],
   "source": [
    "# Uppercase all characters\n",
    "df['word'] = df['word'].apply(letter_2_upper_mk_42)\n",
    "# print(df); print(df.dtypes)"
   ]
  },
  {
   "cell_type": "code",
   "execution_count": 7,
   "metadata": {},
   "outputs": [],
   "source": [
    "# Get rid of duplicate words with same label\n",
    "df = df.drop_duplicates()\n",
    "# print(df); print(df.dtypes)"
   ]
  },
  {
   "cell_type": "code",
   "execution_count": 8,
   "metadata": {},
   "outputs": [
    {
     "name": "stdout",
     "output_type": "stream",
     "text": [
      "Unique characters \n",
      "['Ê', '�', 'Ø', 'I', 'S', 'R', 'O', 'W', 'Ë', 'Ä', 'É', 'È', 'Ô', 'M', 'Ú', ' ', 'Á', 'Q', 'Å', 'Ï', 'U', \"'\", 'Z', 'L', 'Î', 'Í', 'P', 'Û', 'Y', 'Ù', 'K', 'Ñ', 'Ü', '.', 'X', 'Ç', 'Ö', 'C', 'N', 'V', 'T', '-', 'Â', 'A', 'F', 'H', 'E', 'Ó', 'Ã', 'J', 'G', 'D', 'B'] \n",
      "of length 53\n"
     ]
    }
   ],
   "source": [
    "# Determine set of all unique letters of the dataset\n",
    "letters = set()\n",
    "df['word'].apply(unique_letters,args=[letters])\n",
    "print(\"Unique characters \\n%s \\nof length %s\" % (list(letters), len(letters)))"
   ]
  },
  {
   "cell_type": "code",
   "execution_count": 9,
   "metadata": {},
   "outputs": [
    {
     "name": "stdout",
     "output_type": "stream",
     "text": [
      "Unique letters \n",
      "['Ê', 'G', 'Ø', 'I', 'S', 'R', 'O', 'W', 'Ô', 'É', 'Ë', 'Ä', 'È', 'M', 'Ú', 'Á', 'Q', 'Å', 'Ï', 'U', 'Z', 'L', 'Î', 'Í', 'P', 'Û', 'Y', 'Ù', 'K', 'Ñ', 'Ü', 'Ç', 'Ö', 'C', 'N', 'V', 'T', 'Â', 'A', 'F', 'H', 'E', 'Ó', 'Ã', 'X', 'J', 'D', 'B'] \n",
      "of length 48\n"
     ]
    }
   ],
   "source": [
    "# Determine the alphabetic subset of letter set\n",
    "alpha_letters = set()\n",
    "for c in list(letters):\n",
    "    if c.isalpha():\n",
    "        alpha_letters.add(c)\n",
    "print(\"Unique letters \\n%s \\nof length %s\" % (list(alpha_letters), len(alpha_letters)))"
   ]
  },
  {
   "cell_type": "code",
   "execution_count": 10,
   "metadata": {},
   "outputs": [],
   "source": [
    "# # Drop rows with unwanted/non-alpha characters-regex way\n",
    "# REDACTED #\n",
    "# Drop rows with unwanted/non-alpha characters-lame way\n",
    "for c in letters-alpha_letters:\n",
    "    df = df[~df.word.str.contains(c, regex=False)]\n",
    "# df = df[~df.word.str.contains(\"T|L\", regex=True)]\n",
    "# print(df); print(df.dtypes)"
   ]
  },
  {
   "cell_type": "code",
   "execution_count": 11,
   "metadata": {},
   "outputs": [
    {
     "name": "stdout",
     "output_type": "stream",
     "text": [
      "Cleansed letters \n",
      "['Ê', 'Ø', 'I', 'S', 'R', 'O', 'W', 'Ë', 'Ä', 'É', 'È', 'Ô', 'M', 'Ú', 'Á', 'Q', 'Å', 'Ï', 'U', 'Z', 'L', 'Î', 'Í', 'P', 'Û', 'Y', 'Ù', 'K', 'Ñ', 'Ü', 'X', 'Ç', 'Ö', 'C', 'N', 'V', 'T', 'Â', 'A', 'F', 'H', 'E', 'Ó', 'Ã', 'J', 'G', 'D', 'B'] \n",
      "of length 48\n"
     ]
    }
   ],
   "source": [
    "# Test the success by getting set of all unique elements again\n",
    "cleansed_letters = set()\n",
    "df['word'].apply(unique_letters,args=[cleansed_letters])\n",
    "print(\"Cleansed letters \\n%s \\nof length %s\" % (list(cleansed_letters), len(cleansed_letters)))"
   ]
  },
  {
   "cell_type": "code",
   "execution_count": 12,
   "metadata": {},
   "outputs": [
    {
     "name": "stdout",
     "output_type": "stream",
     "text": [
      "Cleansed dataset:\n",
      "                      word  label\n",
      "0                AACHENERS      2\n",
      "1             AALÄHNLICHER      2\n",
      "2             AALÄHNLICHES      2\n",
      "3               AALARTIGES      2\n",
      "4              AALBESTÄNDE      2\n",
      "5               AALBEZOGEN      2\n",
      "6             AALBEZOGENEN      2\n",
      "7           AALBRUTLEITERN      2\n",
      "8          AALBÜSCHELWELSE      2\n",
      "9                AALBUTTEN      2\n",
      "10               AALDORSCH      2\n",
      "11                  AALEND      2\n",
      "12                 AALENDE      2\n",
      "13             AALENTNAHME      2\n",
      "14               AALFÄNGER      2\n",
      "15      AALFANGERGEBNISSES      2\n",
      "16          AALFÄNGERINNEN      2\n",
      "17         AALFANGMETHODEN      2\n",
      "18          AALFANGVERBOTE      2\n",
      "19         AALFANGVERBOTES      2\n",
      "20          AALFANGVERBOTS      2\n",
      "21              AALFISCHER      2\n",
      "22            AALFISCHERIN      2\n",
      "23             AALFLEISCHS      2\n",
      "24              AALFÖRMIGE      2\n",
      "25             AALFREUNDES      2\n",
      "26                AALGLATT      2\n",
      "27               AALGRÄTEN      2\n",
      "28                AALKISTE      2\n",
      "29             AALKÖRBCHEN      2\n",
      "...                    ...    ...\n",
      "785037                ÎLOT      3\n",
      "785038             ÎLOTIER      3\n",
      "785039               ÎLOTS      3\n",
      "785040                   Ô      3\n",
      "785041                 ÔTA      3\n",
      "785042                ÔTAI      3\n",
      "785043             ÔTAIENT      3\n",
      "785044               ÔTAIS      3\n",
      "785045               ÔTAIT      3\n",
      "785046               ÔTANT      3\n",
      "785047                 ÔTE      3\n",
      "785048               ÔTENT      3\n",
      "785049                ÔTER      3\n",
      "785050               ÔTERA      3\n",
      "785051              ÔTERAI      3\n",
      "785052             ÔTERAIS      3\n",
      "785053             ÔTERAIT      3\n",
      "785054              ÔTERAS      3\n",
      "785055              ÔTEREZ      3\n",
      "785056            ÔTERIONS      3\n",
      "785057                ÔTES      3\n",
      "785058                ÔTEZ      3\n",
      "785059               ÔTIEZ      3\n",
      "785060               ÔTONS      3\n",
      "785061                ÔTÂT      3\n",
      "785062             ÔTÈRENT      3\n",
      "785063                 ÔTÉ      3\n",
      "785064                ÔTÉE      3\n",
      "785065               ÔTÉES      3\n",
      "785066                ÔTÉS      3\n",
      "\n",
      "[785067 rows x 2 columns]\n",
      "word     object\n",
      "label     int64\n",
      "dtype: object\n"
     ]
    }
   ],
   "source": [
    "# Reset the indexes of the rows\n",
    "df = df.reset_index(drop=True)\n",
    "print('Cleansed dataset:')\n",
    "print(df); print(df.dtypes)"
   ]
  },
  {
   "cell_type": "code",
   "execution_count": 13,
   "metadata": {},
   "outputs": [
    {
     "name": "stdout",
     "output_type": "stream",
     "text": [
      "                      word  label\n",
      "0                AACHENERS      2\n",
      "1             AALÄHNLICHER      2\n",
      "2             AALÄHNLICHES      2\n",
      "3               AALARTIGES      2\n",
      "4              AALBESTÄNDE      2\n",
      "5               AALBEZOGEN      2\n",
      "6             AALBEZOGENEN      2\n",
      "7           AALBRUTLEITERN      2\n",
      "8          AALBÜSCHELWELSE      2\n",
      "9                AALBUTTEN      2\n",
      "10               AALDORSCH      2\n",
      "11                  AALEND      2\n",
      "12                 AALENDE      2\n",
      "13             AALENTNAHME      2\n",
      "14               AALFÄNGER      2\n",
      "15      AALFANGERGEBNISSES      2\n",
      "16          AALFÄNGERINNEN      2\n",
      "17         AALFANGMETHODEN      2\n",
      "18          AALFANGVERBOTE      2\n",
      "19         AALFANGVERBOTES      2\n",
      "20          AALFANGVERBOTS      2\n",
      "21              AALFISCHER      2\n",
      "22            AALFISCHERIN      2\n",
      "23             AALFLEISCHS      2\n",
      "24              AALFÖRMIGE      2\n",
      "25             AALFREUNDES      2\n",
      "26                AALGLATT      2\n",
      "27               AALGRÄTEN      2\n",
      "28                AALKISTE      2\n",
      "29             AALKÖRBCHEN      2\n",
      "...                    ...    ...\n",
      "785037                ÎLOT      3\n",
      "785038             ÎLOTIER      3\n",
      "785039               ÎLOTS      3\n",
      "785040                   Ô      3\n",
      "785041                 ÔTA      3\n",
      "785042                ÔTAI      3\n",
      "785043             ÔTAIENT      3\n",
      "785044               ÔTAIS      3\n",
      "785045               ÔTAIT      3\n",
      "785046               ÔTANT      3\n",
      "785047                 ÔTE      3\n",
      "785048               ÔTENT      3\n",
      "785049                ÔTER      3\n",
      "785050               ÔTERA      3\n",
      "785051              ÔTERAI      3\n",
      "785052             ÔTERAIS      3\n",
      "785053             ÔTERAIT      3\n",
      "785054              ÔTERAS      3\n",
      "785055              ÔTEREZ      3\n",
      "785056            ÔTERIONS      3\n",
      "785057                ÔTES      3\n",
      "785058                ÔTEZ      3\n",
      "785059               ÔTIEZ      3\n",
      "785060               ÔTONS      3\n",
      "785061                ÔTÂT      3\n",
      "785062             ÔTÈRENT      3\n",
      "785063                 ÔTÉ      3\n",
      "785064                ÔTÉE      3\n",
      "785065               ÔTÉES      3\n",
      "785066                ÔTÉS      3\n",
      "\n",
      "[785067 rows x 2 columns]\n",
      "word     object\n",
      "label     int64\n",
      "dtype: object\n",
      "Cleansed letters \n",
      "['Ê', 'Ø', 'I', 'S', 'R', 'O', 'W', 'Ë', 'Ä', 'É', 'È', 'Ô', 'M', 'Ú', 'Á', 'Q', 'Å', 'Ï', 'U', 'Z', 'L', 'Î', 'Í', 'P', 'Û', 'Y', 'Ù', 'K', 'Ñ', 'Ü', 'X', 'Ç', 'Ö', 'C', 'N', 'V', 'T', 'Â', 'A', 'F', 'H', 'E', 'Ó', 'Ã', 'J', 'G', 'D', 'B'] \n",
      "of length 48\n"
     ]
    }
   ],
   "source": [
    "# Acquire set of all unique characters --For 1-gram feature selection later\n",
    "print(df); print(df.dtypes)\n",
    "# Return set of all unique characters\n",
    "def unique_letters(word, letter_bag):\n",
    "    for c in word:\n",
    "        if c not in letter_bag:\n",
    "            letter_bag.add(c)\n",
    "            \n",
    "cleansed_letters = set()\n",
    "df['word'].apply(unique_letters,args=[cleansed_letters])\n",
    "print(\"Cleansed letters \\n%s \\nof length %s\" % (list(cleansed_letters), len(cleansed_letters)))"
   ]
  },
  {
   "cell_type": "code",
   "execution_count": 14,
   "metadata": {},
   "outputs": [],
   "source": [
    "# Save to a csv file\n",
    "df.to_csv(\"Notebook_Results/ENG-GER-FRE-N2-cleansed.csv\")"
   ]
  }
 ],
 "metadata": {
  "kernelspec": {
   "display_name": "Python 3",
   "language": "python",
   "name": "python3"
  },
  "language_info": {
   "codemirror_mode": {
    "name": "ipython",
    "version": 3
   },
   "file_extension": ".py",
   "mimetype": "text/x-python",
   "name": "python",
   "nbconvert_exporter": "python",
   "pygments_lexer": "ipython3",
   "version": "3.7.0"
  }
 },
 "nbformat": 4,
 "nbformat_minor": 2
}
